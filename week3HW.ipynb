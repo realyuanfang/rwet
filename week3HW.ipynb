{
 "cells": [
  {
   "cell_type": "code",
   "execution_count": 87,
   "id": "e5451727",
   "metadata": {},
   "outputs": [],
   "source": [
    "text = \"\"\" The slick  pen  glides  across  paper \n",
    "precisely scraping the  ruler’s  edge \n",
    "marking  a  line beside  many  lonesome  dots\n",
    "a line of  best  fit  as  snug as  a sweater.\n",
    "The slope is  a  mere  fraction,  but  the  line it  fabricated  would stretch  on, \n",
    "encompassing  an  infinite amount  of  graph  paper. \n",
    "As  the  line traveled,  it  would pass  by  many  data  points\n",
    "and the  wispy  voices  of  the  outliers  would be heard on  the  wind \n",
    "calling  to  the  line  from  worlds  away,  asking  it  to  contort\n",
    "to come and  gather  the lonely  dots,  and hold them  shaking  in  its  tepid arms \n",
    "but  the  line  never  does.\n",
    "Instead,  it  continues  on  without  a  sideways  glance\n",
    "forever  the same  slope forever the same straight  line. \"\"\"\n"
   ]
  },
  {
   "cell_type": "code",
   "execution_count": 88,
   "id": "f9c37b7b",
   "metadata": {},
   "outputs": [
    {
     "name": "stdout",
     "output_type": "stream",
     "text": [
      "The slick  pen  glides  across  paper \n",
      "precisely scraping the  ruler’s  edge \n",
      "marking  a  line beside  many  lonesome  dots\n",
      "a line of  best  fit  as  snug as  a sweater.\n",
      "The slope is  a  mere  fraction,  but  the  line it  fabricated  would stretch  on, \n",
      "encompassing  an  infinite amount  of  graph  paper. \n",
      "As  the  line traveled,  it  would pass  by  many  data  points\n",
      "and the  wispy  voices  of  the  outliers  would be heard on  the  wind \n",
      "calling  to  the  line  from  worlds  away,  asking  it  to  contort\n",
      "to come and  gather  the lonely  dots,  and hold them  shaking  in  its  tepid arms \n",
      "but  the  line  never  does.\n",
      "Instead,  it  continues  on  without  a  sideways  glance\n",
      "forever  the same  slope forever the same straight  line. \n"
     ]
    }
   ],
   "source": [
    "print(text)"
   ]
  },
  {
   "cell_type": "code",
   "execution_count": 89,
   "id": "e5961215",
   "metadata": {},
   "outputs": [
    {
     "data": {
      "text/plain": [
       "['The',\n",
       " 'slick',\n",
       " 'pen',\n",
       " 'glides',\n",
       " 'across',\n",
       " 'paper',\n",
       " 'precisely',\n",
       " 'scraping',\n",
       " 'the',\n",
       " 'ruler’s',\n",
       " 'edge',\n",
       " 'marking',\n",
       " 'a',\n",
       " 'line',\n",
       " 'beside',\n",
       " 'many',\n",
       " 'lonesome',\n",
       " 'dots',\n",
       " 'a',\n",
       " 'line',\n",
       " 'of',\n",
       " 'best',\n",
       " 'fit',\n",
       " 'as',\n",
       " 'snug',\n",
       " 'as',\n",
       " 'a',\n",
       " 'sweater.',\n",
       " 'The',\n",
       " 'slope',\n",
       " 'is',\n",
       " 'a',\n",
       " 'mere',\n",
       " 'fraction,',\n",
       " 'but',\n",
       " 'the',\n",
       " 'line',\n",
       " 'it',\n",
       " 'fabricated',\n",
       " 'would',\n",
       " 'stretch',\n",
       " 'on,',\n",
       " 'encompassing',\n",
       " 'an',\n",
       " 'infinite',\n",
       " 'amount',\n",
       " 'of',\n",
       " 'graph',\n",
       " 'paper.',\n",
       " 'As',\n",
       " 'the',\n",
       " 'line',\n",
       " 'traveled,',\n",
       " 'it',\n",
       " 'would',\n",
       " 'pass',\n",
       " 'by',\n",
       " 'many',\n",
       " 'data',\n",
       " 'points',\n",
       " 'and',\n",
       " 'the',\n",
       " 'wispy',\n",
       " 'voices',\n",
       " 'of',\n",
       " 'the',\n",
       " 'outliers',\n",
       " 'would',\n",
       " 'be',\n",
       " 'heard',\n",
       " 'on',\n",
       " 'the',\n",
       " 'wind',\n",
       " 'calling',\n",
       " 'to',\n",
       " 'the',\n",
       " 'line',\n",
       " 'from',\n",
       " 'worlds',\n",
       " 'away,',\n",
       " 'asking',\n",
       " 'it',\n",
       " 'to',\n",
       " 'contort',\n",
       " 'to',\n",
       " 'come',\n",
       " 'and',\n",
       " 'gather',\n",
       " 'the',\n",
       " 'lonely',\n",
       " 'dots,',\n",
       " 'and',\n",
       " 'hold',\n",
       " 'them',\n",
       " 'shaking',\n",
       " 'in',\n",
       " 'its',\n",
       " 'tepid',\n",
       " 'arms',\n",
       " 'but',\n",
       " 'the',\n",
       " 'line',\n",
       " 'never',\n",
       " 'does.',\n",
       " 'Instead,',\n",
       " 'it',\n",
       " 'continues',\n",
       " 'on',\n",
       " 'without',\n",
       " 'a',\n",
       " 'sideways',\n",
       " 'glance',\n",
       " 'forever',\n",
       " 'the',\n",
       " 'same',\n",
       " 'slope',\n",
       " 'forever',\n",
       " 'the',\n",
       " 'same',\n",
       " 'straight',\n",
       " 'line.']"
      ]
     },
     "execution_count": 89,
     "metadata": {},
     "output_type": "execute_result"
    }
   ],
   "source": [
    "text.split()"
   ]
  },
  {
   "cell_type": "code",
   "execution_count": 90,
   "id": "9be3cf94",
   "metadata": {},
   "outputs": [
    {
     "name": "stdout",
     "output_type": "stream",
     "text": [
      "['a', 'a', 'a', 'a', 'a']\n"
     ]
    }
   ],
   "source": [
    "one = [val for val in text.split() if len(val) == 1]\n",
    "print(one)"
   ]
  },
  {
   "cell_type": "code",
   "execution_count": 91,
   "id": "4f37b665",
   "metadata": {},
   "outputs": [
    {
     "name": "stdout",
     "output_type": "stream",
     "text": [
      "['of', 'as', 'as', 'is', 'it', 'an', 'of', 'As', 'it', 'by', 'of', 'be', 'on', 'to', 'it', 'to', 'to', 'in', 'it', 'on']\n"
     ]
    }
   ],
   "source": [
    "two = [val for val in text.split() if len(val) == 2]\n",
    "print(two)"
   ]
  },
  {
   "cell_type": "code",
   "execution_count": 92,
   "id": "171e754b",
   "metadata": {},
   "outputs": [
    {
     "name": "stdout",
     "output_type": "stream",
     "text": [
      "['The', 'pen', 'the', 'fit', 'The', 'but', 'the', 'on,', 'the', 'and', 'the', 'the', 'the', 'the', 'and', 'the', 'and', 'its', 'but', 'the', 'the', 'the']\n"
     ]
    }
   ],
   "source": [
    "three = [val for val in text.split() if len(val) == 3]\n",
    "print(three)"
   ]
  },
  {
   "cell_type": "code",
   "execution_count": 93,
   "id": "09e87bfd",
   "metadata": {},
   "outputs": [
    {
     "name": "stdout",
     "output_type": "stream",
     "text": [
      "['edge', 'line', 'many', 'dots', 'line', 'best', 'snug', 'mere', 'line', 'line', 'pass', 'many', 'data', 'wind', 'line', 'from', 'come', 'hold', 'them', 'arms', 'line', 'same', 'same']\n"
     ]
    }
   ],
   "source": [
    "four = [val for val in text.split() if len(val) == 4]\n",
    "print(four)"
   ]
  },
  {
   "cell_type": "code",
   "execution_count": 94,
   "id": "74fe7bcf",
   "metadata": {},
   "outputs": [
    {
     "name": "stdout",
     "output_type": "stream",
     "text": [
      "['slick', 'paper', 'slope', 'would', 'graph', 'would', 'wispy', 'would', 'heard', 'away,', 'dots,', 'tepid', 'never', 'does.', 'slope', 'line.']\n"
     ]
    }
   ],
   "source": [
    "five = [val for val in text.split() if len(val) == 5]\n",
    "print(five)"
   ]
  },
  {
   "cell_type": "code",
   "execution_count": 95,
   "id": "16e58f32",
   "metadata": {},
   "outputs": [
    {
     "name": "stdout",
     "output_type": "stream",
     "text": [
      "['glides', 'across', 'beside', 'amount', 'paper.', 'points', 'voices', 'worlds', 'asking', 'gather', 'lonely', 'glance']\n"
     ]
    }
   ],
   "source": [
    "six = [val for val in text.split() if len(val) == 6]\n",
    "print(six)"
   ]
  },
  {
   "cell_type": "code",
   "execution_count": 96,
   "id": "1a1d3bd3",
   "metadata": {},
   "outputs": [
    {
     "name": "stdout",
     "output_type": "stream",
     "text": [
      "['ruler’s', 'marking', 'stretch', 'calling', 'contort', 'shaking', 'without', 'forever', 'forever']\n"
     ]
    }
   ],
   "source": [
    "seven = [val for val in text.split() if len(val) == 7]\n",
    "print(seven)"
   ]
  },
  {
   "cell_type": "code",
   "execution_count": 97,
   "id": "dd57b23c",
   "metadata": {},
   "outputs": [
    {
     "name": "stdout",
     "output_type": "stream",
     "text": [
      "['scraping', 'lonesome', 'sweater.', 'infinite', 'outliers', 'Instead,', 'sideways', 'straight']\n"
     ]
    }
   ],
   "source": [
    "eight = [val for val in text.split() if len(val) == 8]\n",
    "print(eight)"
   ]
  },
  {
   "cell_type": "code",
   "execution_count": 98,
   "id": "2c3df3dd",
   "metadata": {},
   "outputs": [
    {
     "name": "stdout",
     "output_type": "stream",
     "text": [
      "['precisely', 'fraction,', 'traveled,', 'continues']\n"
     ]
    }
   ],
   "source": [
    "nine = [val for val in text.split() if len(val) == 9]\n",
    "print(nine)"
   ]
  },
  {
   "cell_type": "code",
   "execution_count": 99,
   "id": "7c2a4e34",
   "metadata": {},
   "outputs": [
    {
     "name": "stdout",
     "output_type": "stream",
     "text": [
      "['fabricated']\n"
     ]
    }
   ],
   "source": [
    "ten = [val for val in text.split() if len(val) == 10]\n",
    "print(ten)"
   ]
  },
  {
   "cell_type": "code",
   "execution_count": 100,
   "id": "ee7af36e",
   "metadata": {},
   "outputs": [
    {
     "name": "stdout",
     "output_type": "stream",
     "text": [
      "[]\n"
     ]
    }
   ],
   "source": [
    "eleven = [val for val in text.split() if len(val) == 11]\n",
    "print(eleven)"
   ]
  },
  {
   "cell_type": "code",
   "execution_count": 101,
   "id": "da57a07b",
   "metadata": {},
   "outputs": [
    {
     "name": "stdout",
     "output_type": "stream",
     "text": [
      "['encompassing']\n"
     ]
    }
   ],
   "source": [
    "twelve = [val for val in text.split() if len(val) == 12]\n",
    "print(twelve)"
   ]
  },
  {
   "cell_type": "code",
   "execution_count": 102,
   "id": "f0c329ae",
   "metadata": {},
   "outputs": [],
   "source": [
    "import random "
   ]
  },
  {
   "cell_type": "code",
   "execution_count": 103,
   "id": "846491b2",
   "metadata": {},
   "outputs": [
    {
     "name": "stdout",
     "output_type": "stream",
     "text": [
      "\n",
      "a a it its graph straight\n",
      "by to best gather fabricated\n",
      "but its gather traveled,\n",
      "line many straight\n",
      "would line. fabricated\n",
      "amount points encompassing\n",
      "\n",
      "a a an The would infinite\n",
      "of of wind paper. fabricated\n",
      "but on, glance fraction,\n",
      "snug best Instead,\n",
      "slope does. fabricated\n",
      "voices asking encompassing\n",
      "\n",
      "a a by the dots, Instead,\n",
      "As on from glides fabricated\n",
      "the on, worlds fraction,\n",
      "best wind sideways\n",
      "slick away, fabricated\n",
      "glance voices encompassing\n",
      "\n",
      "a a it the wispy infinite\n",
      "As to them asking fabricated\n",
      "pen the asking fraction,\n",
      "them same Instead,\n",
      "away, never fabricated\n",
      "paper. points encompassing\n",
      "\n",
      "a a is the line. straight\n",
      "of is many beside fabricated\n",
      "The the voices fraction,\n",
      "line pass lonesome\n",
      "tepid would fabricated\n",
      "beside points encompassing\n",
      "\n",
      "a a As the slope Instead,\n",
      "of as arms lonely fabricated\n",
      "fit The worlds precisely\n",
      "many mere Instead,\n",
      "away, paper fabricated\n",
      "glides lonely encompassing\n",
      "\n",
      "a a it the slick outliers\n",
      "on as them glides fabricated\n",
      "the the across traveled,\n",
      "data them sideways\n",
      "away, away, fabricated\n",
      "paper. gather encompassing\n"
     ]
    }
   ],
   "source": [
    "stanza_count = 7\n",
    "for i in range(stanza_count):\n",
    "    print()\n",
    "    print(\" \".join([random.choice(one), random.choice(one), random.choice(two), random.choice(three), random.choice(five), random.choice(eight)]))\n",
    "    print(\" \".join([random.choice(two), random.choice(two), random.choice(four), random.choice(six), random.choice(ten)]))\n",
    "    print(\" \".join([random.choice(three), random.choice(three), random.choice(six), random.choice(nine)]))\n",
    "    print(\" \".join([random.choice(four), random.choice(four), random.choice(eight)]))\n",
    "    print(\" \".join([random.choice(five), random.choice(five), random.choice(ten)]))\n",
    "    print(\" \".join([random.choice(six), random.choice(six), random.choice(twelve)]))\n",
    "    \n",
    "    \n",
    "    "
   ]
  }
 ],
 "metadata": {
  "kernelspec": {
   "display_name": "Python 3 (ipykernel)",
   "language": "python",
   "name": "python3"
  },
  "language_info": {
   "codemirror_mode": {
    "name": "ipython",
    "version": 3
   },
   "file_extension": ".py",
   "mimetype": "text/x-python",
   "name": "python",
   "nbconvert_exporter": "python",
   "pygments_lexer": "ipython3",
   "version": "3.9.7"
  }
 },
 "nbformat": 4,
 "nbformat_minor": 5
}
