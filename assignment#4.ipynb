{
 "cells": [
  {
   "cell_type": "markdown",
   "id": "470b14be",
   "metadata": {},
   "source": [
    "# word vectors!"
   ]
  },
  {
   "cell_type": "code",
   "execution_count": 60,
   "id": "b3ee3b25",
   "metadata": {},
   "outputs": [],
   "source": [
    "import json"
   ]
  },
  {
   "cell_type": "code",
   "execution_count": 61,
   "id": "e1a0fbfe",
   "metadata": {},
   "outputs": [],
   "source": [
    "import random"
   ]
  },
  {
   "cell_type": "code",
   "execution_count": 62,
   "id": "75d4948f",
   "metadata": {},
   "outputs": [],
   "source": [
    "import numpy as np"
   ]
  },
  {
   "cell_type": "code",
   "execution_count": 85,
   "id": "2637ff2d",
   "metadata": {},
   "outputs": [
    {
     "name": "stdout",
     "output_type": "stream",
     "text": [
      "Requirement already satisfied: annoy==1.16.3 in /Users/yuanfang/opt/anaconda3/lib/python3.9/site-packages (1.16.3)\r\n"
     ]
    }
   ],
   "source": [
    "import sys\n",
    "!{sys.executable} -m pip install annoy==1.16.3"
   ]
  },
  {
   "cell_type": "code",
   "execution_count": 86,
   "id": "72c5654a",
   "metadata": {},
   "outputs": [
    {
     "name": "stdout",
     "output_type": "stream",
     "text": [
      "Requirement already satisfied: simpleneighbors in /Users/yuanfang/opt/anaconda3/lib/python3.9/site-packages (0.1.0)\r\n"
     ]
    }
   ],
   "source": [
    "import sys\n",
    "!{sys.executable} -m pip install simpleneighbors"
   ]
  },
  {
   "cell_type": "code",
   "execution_count": 87,
   "id": "47808ef8",
   "metadata": {},
   "outputs": [],
   "source": [
    "from simpleneighbors import SimpleNeighbors"
   ]
  },
  {
   "cell_type": "markdown",
   "id": "57d71988",
   "metadata": {},
   "source": [
    "## word vectors!\n",
    "Distributional semantics\n",
    "What's meant by \"similar distributions\" is similar contexts. Take for example the following sentences:\n",
    "\n",
    "It was really cold yesterday.\n",
    "It will be really warm today, though.\n",
    "It'll be really hot tomorrow!\n",
    "Will it be really cool Tuesday?"
   ]
  },
  {
   "cell_type": "code",
   "execution_count": 88,
   "id": "9be0c065",
   "metadata": {},
   "outputs": [],
   "source": [
    "import spacy"
   ]
  },
  {
   "cell_type": "code",
   "execution_count": 111,
   "id": "c7d26890",
   "metadata": {},
   "outputs": [],
   "source": [
    "from tracery.modifiers import base_english"
   ]
  },
  {
   "cell_type": "code",
   "execution_count": 112,
   "id": "42ed0162",
   "metadata": {},
   "outputs": [],
   "source": [
    "nlp = spacy.load('en_core_web_md')"
   ]
  },
  {
   "cell_type": "code",
   "execution_count": 113,
   "id": "cac60220",
   "metadata": {},
   "outputs": [],
   "source": [
    "def vec(s):\n",
    "    return nlp.vocab[s].vector"
   ]
  },
  {
   "cell_type": "code",
   "execution_count": 114,
   "id": "bdc9ea37",
   "metadata": {},
   "outputs": [
    {
     "name": "stdout",
     "output_type": "stream",
     "text": [
      "  % Total    % Received % Xferd  Average Speed   Time    Time     Time  Current\n",
      "                                 Dload  Upload   Total   Spent    Left  Speed\n",
      "100  898k  100  898k    0     0  4801k      0 --:--:-- --:--:-- --:--:-- 4829k\n"
     ]
    }
   ],
   "source": [
    "!curl -L -O https://raw.githubusercontent.com/aparrish/wordfreq-en-25000/main/wordfreq-en-25000-log.json"
   ]
  },
  {
   "cell_type": "code",
   "execution_count": 115,
   "id": "586f8e16",
   "metadata": {},
   "outputs": [],
   "source": [
    "import json\n",
    "prob_lookup = dict(json.load(open(\"./wordfreq-en-25000-log.json\")))"
   ]
  },
  {
   "cell_type": "code",
   "execution_count": 116,
   "id": "3a04ff29",
   "metadata": {},
   "outputs": [
    {
     "data": {
      "text/plain": [
       "-5.7108"
      ]
     },
     "execution_count": 116,
     "metadata": {},
     "output_type": "execute_result"
    }
   ],
   "source": [
    "prob_lookup['me']"
   ]
  },
  {
   "cell_type": "code",
   "execution_count": 117,
   "id": "566c46c2",
   "metadata": {},
   "outputs": [
    {
     "data": {
      "text/plain": [
       "-10.4311"
      ]
     },
     "execution_count": 117,
     "metadata": {},
     "output_type": "execute_result"
    }
   ],
   "source": [
    "prob_lookup['basketball']"
   ]
  },
  {
   "cell_type": "code",
   "execution_count": 118,
   "id": "fd7d7404",
   "metadata": {},
   "outputs": [],
   "source": [
    "lookup = SimpleNeighbors(300)\n",
    "for word in prob_lookup.keys():\n",
    "    if nlp.vocab[word].has_vector:\n",
    "        lookup.add_one(word, vec(word))\n",
    "lookup.build()"
   ]
  },
  {
   "cell_type": "code",
   "execution_count": 119,
   "id": "51352b4c",
   "metadata": {},
   "outputs": [
    {
     "data": {
      "text/plain": [
       "['line',\n",
       " 'lines',\n",
       " 'along',\n",
       " 'edge',\n",
       " 'bottom',\n",
       " 'number',\n",
       " 'base',\n",
       " 'main',\n",
       " 'runs',\n",
       " 'example',\n",
       " 'opening',\n",
       " 'over']"
      ]
     },
     "execution_count": 119,
     "metadata": {},
     "output_type": "execute_result"
    }
   ],
   "source": [
    "lookup.nearest(vec('line'))"
   ]
  },
  {
   "cell_type": "code",
   "execution_count": 120,
   "id": "b83e3789",
   "metadata": {
    "scrolled": true
   },
   "outputs": [
    {
     "data": {
      "text/plain": [
       "['the',\n",
       " 'of',\n",
       " 'entire',\n",
       " 'same',\n",
       " 'part',\n",
       " 'which',\n",
       " 'through',\n",
       " 'second',\n",
       " 'as',\n",
       " 'both',\n",
       " 'present',\n",
       " 'an']"
      ]
     },
     "execution_count": 120,
     "metadata": {},
     "output_type": "execute_result"
    }
   ],
   "source": [
    "lookup.nearest(vec('the'))"
   ]
  },
  {
   "cell_type": "code",
   "execution_count": 121,
   "id": "458bf63c",
   "metadata": {},
   "outputs": [
    {
     "name": "stdout",
     "output_type": "stream",
     "text": [
      "Roses areline\n",
      "Roses areline\n",
      "Roses areline\n",
      "Roses areline\n",
      "Roses areline\n",
      "Roses areline\n",
      "Roses areline\n",
      "Roses areline\n",
      "Roses areline\n",
      "Roses areline\n",
      "Roses areline\n",
      "Roses areline\n",
      "Roses areline\n",
      "Roses areline\n"
     ]
    }
   ],
   "source": [
    "import random\n",
    "for i in range (14):\n",
    "    linenames = lookup.nearest(vec('line'))\n",
    "    print(\"Roses are\" + linenames[0])\n",
    "    line = [random.choice(linenames)]"
   ]
  },
  {
   "cell_type": "markdown",
   "id": "7e8c2a6a",
   "metadata": {},
   "source": [
    "## example!!"
   ]
  },
  {
   "cell_type": "code",
   "execution_count": 122,
   "id": "8ab63236",
   "metadata": {},
   "outputs": [],
   "source": [
    "text = \"\"\" The slick  pen  glides  across  paper \n",
    "precisely scraping the  ruler’s  edge \n",
    "marking  a  line beside  many  lonesome  dots\n",
    "a line of  best  fit  as  snug as  a sweater.\n",
    "The slope is  a  mere  fraction,  but  the  line it  fabricated  would stretch  on, \n",
    "encompassing  an  infinite amount  of  graph  paper. \n",
    "As  the  line traveled,  it  would pass  by  many  data  points\n",
    "and the  wispy  voices  of  the  outliers  would be heard on  the  wind \n",
    "calling  to  the  line  from  worlds  away,  asking  it  to  contort\n",
    "to come and  gather  the lonely  dots,  and hold them  shaking  in  its  tepid arms \n",
    "but  the  line  never  does.\n",
    "Instead,  it  continues  on  without  a  sideways  glance\n",
    "forever  the same  slope forever the same straight  line. \"\"\"\n"
   ]
  },
  {
   "cell_type": "code",
   "execution_count": 123,
   "id": "32a6abc6",
   "metadata": {},
   "outputs": [
    {
     "name": "stdout",
     "output_type": "stream",
     "text": [
      " The slick  pen  glides  across  paper \n",
      "precisely scraping the  ruler’s  edge \n",
      "marking  a  line beside  many  lonesome  dots\n",
      "a line of  best  fit  as  snug as  a sweater.\n",
      "The slope is  a  mere  fraction,  but  the  line it  fabricated  would stretch  on, \n",
      "encompassing  an  infinite amount  of  graph  paper. \n",
      "As  the  line traveled,  it  would pass  by  many  data  points\n",
      "and the  wispy  voices  of  the  outliers  would be heard on  the  wind \n",
      "calling  to  the  line  from  worlds  away,  asking  it  to  contort\n",
      "to come and  gather  the lonely  dots,  and hold them  shaking  in  its  tepid arms \n",
      "but  the  line  never  does.\n",
      "Instead,  it  continues  on  without  a  sideways  glance\n",
      "forever  the same  slope forever the same straight  line. \n"
     ]
    }
   ],
   "source": [
    "print(text)"
   ]
  },
  {
   "cell_type": "code",
   "execution_count": 124,
   "id": "616597e9",
   "metadata": {},
   "outputs": [
    {
     "data": {
      "text/plain": [
       "['The',\n",
       " 'slick',\n",
       " 'pen',\n",
       " 'glides',\n",
       " 'across',\n",
       " 'paper',\n",
       " 'precisely',\n",
       " 'scraping',\n",
       " 'the',\n",
       " 'ruler’s',\n",
       " 'edge',\n",
       " 'marking',\n",
       " 'a',\n",
       " 'line',\n",
       " 'beside',\n",
       " 'many',\n",
       " 'lonesome',\n",
       " 'dots',\n",
       " 'a',\n",
       " 'line',\n",
       " 'of',\n",
       " 'best',\n",
       " 'fit',\n",
       " 'as',\n",
       " 'snug',\n",
       " 'as',\n",
       " 'a',\n",
       " 'sweater.',\n",
       " 'The',\n",
       " 'slope',\n",
       " 'is',\n",
       " 'a',\n",
       " 'mere',\n",
       " 'fraction,',\n",
       " 'but',\n",
       " 'the',\n",
       " 'line',\n",
       " 'it',\n",
       " 'fabricated',\n",
       " 'would',\n",
       " 'stretch',\n",
       " 'on,',\n",
       " 'encompassing',\n",
       " 'an',\n",
       " 'infinite',\n",
       " 'amount',\n",
       " 'of',\n",
       " 'graph',\n",
       " 'paper.',\n",
       " 'As',\n",
       " 'the',\n",
       " 'line',\n",
       " 'traveled,',\n",
       " 'it',\n",
       " 'would',\n",
       " 'pass',\n",
       " 'by',\n",
       " 'many',\n",
       " 'data',\n",
       " 'points',\n",
       " 'and',\n",
       " 'the',\n",
       " 'wispy',\n",
       " 'voices',\n",
       " 'of',\n",
       " 'the',\n",
       " 'outliers',\n",
       " 'would',\n",
       " 'be',\n",
       " 'heard',\n",
       " 'on',\n",
       " 'the',\n",
       " 'wind',\n",
       " 'calling',\n",
       " 'to',\n",
       " 'the',\n",
       " 'line',\n",
       " 'from',\n",
       " 'worlds',\n",
       " 'away,',\n",
       " 'asking',\n",
       " 'it',\n",
       " 'to',\n",
       " 'contort',\n",
       " 'to',\n",
       " 'come',\n",
       " 'and',\n",
       " 'gather',\n",
       " 'the',\n",
       " 'lonely',\n",
       " 'dots,',\n",
       " 'and',\n",
       " 'hold',\n",
       " 'them',\n",
       " 'shaking',\n",
       " 'in',\n",
       " 'its',\n",
       " 'tepid',\n",
       " 'arms',\n",
       " 'but',\n",
       " 'the',\n",
       " 'line',\n",
       " 'never',\n",
       " 'does.',\n",
       " 'Instead,',\n",
       " 'it',\n",
       " 'continues',\n",
       " 'on',\n",
       " 'without',\n",
       " 'a',\n",
       " 'sideways',\n",
       " 'glance',\n",
       " 'forever',\n",
       " 'the',\n",
       " 'same',\n",
       " 'slope',\n",
       " 'forever',\n",
       " 'the',\n",
       " 'same',\n",
       " 'straight',\n",
       " 'line.']"
      ]
     },
     "execution_count": 124,
     "metadata": {},
     "output_type": "execute_result"
    }
   ],
   "source": [
    "text.split()"
   ]
  },
  {
   "cell_type": "code",
   "execution_count": 125,
   "id": "4febad30",
   "metadata": {},
   "outputs": [
    {
     "name": "stdout",
     "output_type": "stream",
     "text": [
      "['a', 'a', 'a', 'a', 'a']\n"
     ]
    }
   ],
   "source": [
    "one = [val for val in text.split() if len(val) == 1]\n",
    "print(one)"
   ]
  },
  {
   "cell_type": "code",
   "execution_count": 126,
   "id": "ecb57570",
   "metadata": {},
   "outputs": [
    {
     "name": "stdout",
     "output_type": "stream",
     "text": [
      "['of', 'as', 'as', 'is', 'it', 'an', 'of', 'As', 'it', 'by', 'of', 'be', 'on', 'to', 'it', 'to', 'to', 'in', 'it', 'on']\n",
      "['The', 'pen', 'the', 'fit', 'The', 'but', 'the', 'on,', 'the', 'and', 'the', 'the', 'the', 'the', 'and', 'the', 'and', 'its', 'but', 'the', 'the', 'the']\n",
      "['edge', 'line', 'many', 'dots', 'line', 'best', 'snug', 'mere', 'line', 'line', 'pass', 'many', 'data', 'wind', 'line', 'from', 'come', 'hold', 'them', 'arms', 'line', 'same', 'same']\n",
      "['slick', 'paper', 'slope', 'would', 'graph', 'would', 'wispy', 'would', 'heard', 'away,', 'dots,', 'tepid', 'never', 'does.', 'slope', 'line.']\n",
      "['glides', 'across', 'beside', 'amount', 'paper.', 'points', 'voices', 'worlds', 'asking', 'gather', 'lonely', 'glance']\n",
      "['ruler’s', 'marking', 'stretch', 'calling', 'contort', 'shaking', 'without', 'forever', 'forever']\n",
      "['scraping', 'lonesome', 'sweater.', 'infinite', 'outliers', 'Instead,', 'sideways', 'straight']\n",
      "['precisely', 'fraction,', 'traveled,', 'continues']\n",
      "['fabricated']\n",
      "[]\n",
      "['encompassing']\n"
     ]
    }
   ],
   "source": [
    "two = [val for val in text.split() if len(val) == 2]\n",
    "print(two)\n",
    "\n",
    "three = [val for val in text.split() if len(val) == 3]\n",
    "print(three)\n",
    "\n",
    "four = [val for val in text.split() if len(val) == 4]\n",
    "print(four)\n",
    "\n",
    "five = [val for val in text.split() if len(val) == 5]\n",
    "print(five)\n",
    "\n",
    "six = [val for val in text.split() if len(val) == 6]\n",
    "print(six)\n",
    "\n",
    "seven = [val for val in text.split() if len(val) == 7]\n",
    "print(seven)\n",
    "\n",
    "eight = [val for val in text.split() if len(val) == 8]\n",
    "print(eight)\n",
    "\n",
    "nine = [val for val in text.split() if len(val) == 9]\n",
    "print(nine)\n",
    "\n",
    "ten = [val for val in text.split() if len(val) == 10]\n",
    "print(ten)\n",
    "\n",
    "eleven = [val for val in text.split() if len(val) == 11]\n",
    "print(eleven)\n",
    "\n",
    "twelve = [val for val in text.split() if len(val) == 12]\n",
    "print(twelve)\n",
    "\n",
    "\n"
   ]
  },
  {
   "cell_type": "code",
   "execution_count": 127,
   "id": "122b535b",
   "metadata": {},
   "outputs": [
    {
     "name": "stdout",
     "output_type": "stream",
     "text": [
      "Requirement already satisfied: tracery in /Users/yuanfang/opt/anaconda3/lib/python3.9/site-packages (0.1.1)\r\n"
     ]
    }
   ],
   "source": [
    "import sys\n",
    "!{sys.executable} -m pip install tracery"
   ]
  },
  {
   "cell_type": "code",
   "execution_count": 128,
   "id": "9ac6b178",
   "metadata": {},
   "outputs": [],
   "source": [
    "import tracery"
   ]
  },
  {
   "cell_type": "code",
   "execution_count": 129,
   "id": "c49e1b32",
   "metadata": {},
   "outputs": [],
   "source": [
    "noun = open(\"nounlist.txt\").read().split(\"\\n\")"
   ]
  },
  {
   "cell_type": "code",
   "execution_count": 130,
   "id": "e138a9c7",
   "metadata": {},
   "outputs": [
    {
     "name": "stdout",
     "output_type": "stream",
     "text": [
      "['accommodation', 'administrator', 'advertisement', 'appropriation', 'archaeologist', 'assassination', 'authorisation', 'authorization', 'calcification', 'certification', 'circumference', 'clarification', 'collaboration', 'colorlessness', 'communication', 'compassionate', 'comprehension', 'concentration', 'confectionery', 'configuration', 'consciousness', 'consideration', 'constellation', 'correspondent', 'councilperson', 'counter-force', 'determination', 'developmental', 'disconnection', 'disembodiment', 'disengagement', 'dissemination', 'documentation', 'effectiveness', 'embarrassment', 'embellishment', 'encouragement', 'entertainment', 'establishment', 'father-in-law', 'functionality', 'granddaughter', 'homeownership', 'homosexuality', 'hybridisation', 'hybridization', 'incandescence', 'inconvenience', 'investigation', 'justification', 'leptocephalus', 'manifestation', 'manufacturing', 'micronutrient', 'misunderstand', 'mother-in-law', 'neighbourhood', 'nonconformist', 'nondisclosure', 'normalisation', 'normalization', 'parallelogram', 'participation', 'perpendicular', 'pharmacopoeia', 'photoreceptor', 'precipitation', 'premeditation', 'preoccupation', 'proliferation', 'pronunciation', 'pseudoscience', 'psychoanalyst', 'qualification', 'questionnaire', 'randomisation', 'randomization', 'reinscription', 'restructuring', 'retrospective', 'scarification', 'schizophrenic', 'screenwriting', 'semiconductor', 'sister-in-law', 'specification', 'station-wagon', 'step-daughter', 'story-telling', 'subcontractor', 'subexpression', 'temporariness', 'underestimate', 'understanding', 'vegetarianism']\n"
     ]
    }
   ],
   "source": [
    "thirteen = [val for val in noun if len(val) == 13]\n",
    "print(thirteen)"
   ]
  },
  {
   "cell_type": "code",
   "execution_count": 131,
   "id": "6d08b9c2",
   "metadata": {},
   "outputs": [
    {
     "name": "stdout",
     "output_type": "stream",
     "text": [
      "['CD', 'TV', 'ad', 'id', 'ox']\n",
      "['ATM', 'SUV', 'act', 'age', 'aid', 'aim', 'air', 'alb', 'ale', 'ant', 'ape', 'app', 'ark', 'arm', 'art', 'ash', 'ass', 'awe', 'bag', 'ban', 'bar', 'bat', 'bay', 'bed', 'bee', 'bet', 'bid', 'bin', 'bit', 'bob', 'bog', 'bow', 'box', 'boy', 'bra', 'bud', 'bug', 'bun', 'bus', 'buy', 'can', 'cap', 'car', 'cat', 'cob', 'cod', 'con', 'cop', 'cot', 'cow', 'cry', 'cub', 'cue', 'cup', 'cut', 'dad', 'dam', 'day', 'den', 'dew', 'die', 'dig', 'dip', 'doc', 'doe', 'dog', 'dot', 'dud', 'due', 'ear', 'eel', 'egg', 'ego', 'elf', 'elk', 'elm', 'emu', 'end', 'era', 'eve', 'eye', 'fan', 'fat', 'fav', 'fax', 'fee', 'fen', 'few', 'fig', 'fir', 'fit', 'fix', 'flu', 'fly', 'fob', 'fog', 'fox', 'fry', 'fun', 'fur', 'gap', 'gas', 'gel', 'gem', 'gig', 'git', 'gnu', 'god', 'gum', 'gun', 'guy', 'gym', 'ham', 'hat', 'hay', 'hen', 'hip', 'hit', 'hoe', 'hog', 'hop', 'hub', 'hug', 'hut', 'ice', 'icy', 'ink', 'inn', 'jam', 'jar', 'jaw', 'jet', 'job', 'jot', 'joy', 'jug', 'key', 'kid', 'kit', 'lab', 'lad', 'lag', 'lap', 'law', 'lay', 'leg', 'lid', 'lie', 'lip', 'log', 'lot', 'lox', 'lye', 'man', 'map', 'mat', 'max', 'med', 'men', 'min', 'mix', 'mob', 'mom', 'mop', 'mud', 'mug', 'net', 'nit', 'nod', 'nun', 'nut', 'oak', 'oar', 'oat', 'obi', 'oil', 'ore', 'owl', 'pad', 'pan', 'pat', 'paw', 'pay', 'pea', 'pen', 'pet', 'pew', 'pie', 'pig', 'pin', 'pit', 'pod', 'pop', 'pot', 'pub', 'pug', 'pun', 'pup', 'put', 'rag', 'ram', 'rap', 'rat', 'ray', 'red', 'rib', 'rim', 'rip', 'rod', 'row', 'rug', 'rum', 'run', 'rye', 'sac', 'saw', 'sea', 'set', 'sex', 'sin', 'sip', 'sir', 'ski', 'sky', 'son', 'sow', 'soy', 'spy', 'sty', 'sub', 'sum', 'sun', 'tab', 'tag', 'tan', 'tap', 'tax', 'tea', 'tic', 'tie', 'tin', 'tip', 'toe', 'tog', 'ton', 'top', 'toy', 'try', 'tub', 'tug', 'urn', 'use', 'van', 'vet', 'vol', 'wad', 'war', 'wax', 'way', 'web', 'win', 'wit', 'wok', 'yak', 'yam', 'yew', 'yin', 'zen', 'zoo']\n",
      "['abbey', 'abuse', 'acorn', 'actor', 'admin', 'adobe', 'adult', 'afoul', 'agent', 'aglet', 'agony', 'alarm', 'album', 'alder', 'alert', 'alias', 'alibi', 'alien', 'alley', 'alloy', 'alpha', 'altar', 'amber', 'angel', 'anger', 'angle', 'anime', 'anise', 'ankle', 'apple', 'apron', 'arena', 'armor', 'array', 'arrow', 'ascot', 'aside', 'aspic', 'asset', 'attic', 'audit', 'award', 'bacon', 'badge', 'bagel', 'baggy', 'baker', 'banjo', 'barge', 'basil', 'basin', 'basis', 'bayou', 'beach', 'beard', 'beast', 'beech', 'being', 'belly', 'bench', 'beret', 'berry', 'bidet', 'bijou', 'birch', 'birth', 'black', 'blade', 'blame', 'blank', 'blast', 'blend', 'blind', 'block', 'blood', 'bloom', 'blush', 'board', 'bongo', 'bonus', 'boost', 'booty', 'bosom', 'bough', 'bower', 'boxer', 'brace', 'brain', 'brake', 'brand', 'brass', 'bread', 'break', 'brick', 'bride', 'brief', 'brink', 'broad', 'brood', 'brook', 'broom', 'brown', 'brush', 'buddy', 'buggy', 'bugle', 'bunch', 'burro', 'burst', 'buyer', 'cabin', 'cable', 'cacao', 'caddy', 'cadet', 'camel', 'cameo', 'canal', 'candy', 'canoe', 'canon', 'caper', 'capon', 'cargo', 'carol', 'carry', 'catch', 'cause', 'cello', 'chafe', 'chain', 'chair', 'chalk', 'chaos', 'chard', 'charm', 'chart', 'chasm', 'check', 'cheek', 'cheer', 'chess', 'chest', 'chick', 'chief', 'child', 'chili', 'chill', 'chime', 'chino', 'chive', 'choir', 'chops', 'chord', 'chuck', 'churn', 'claim', 'clamp', 'clank', 'clasp', 'class', 'clave', 'cleat', 'cleft', 'clerk', 'click', 'cliff', 'climb', 'cloak', 'clock', 'clogs', 'clone', 'close', 'cloth', 'cloud', 'clove', 'coach', 'coast', 'cocoa', 'codon', 'colon', 'color', 'comic', 'comma', 'conga', 'congo', 'coral', 'corps', 'couch', 'cough', 'count', 'court', 'cover', 'crack', 'craft', 'crane', 'crash', 'crate', 'crazy', 'cream', 'creek', 'crepe', 'crest', 'crime', 'crisp', 'crook', 'cross', 'croup', 'crowd', 'crown', 'crude', 'crumb', 'crush', 'crust', 'curio', 'curry', 'curse', 'curve', 'cycle', 'cynic', 'daddy', 'daily', 'dairy', 'daisy', 'dance', 'death', 'delay', 'demon', 'demur', 'denim', 'depot', 'depth', 'derby', 'devil', 'diary', 'digit', 'diner', 'disco', 'divan', 'diver', 'doing', 'dolor', 'donor', 'donut', 'doubt', 'dough', 'dozen', 'draft', 'drain', 'drake', 'drama', 'dream', 'dress', 'drill', 'drink', 'drive', 'drunk', 'dryer', 'dwarf', 'dwell', 'eagle', 'earth', 'easel', 'eaves', 'edger', 'elbow', 'elite', 'elver', 'email', 'emery', 'enemy', 'entry', 'epoch', 'epoxy', 'equal', 'error', 'essay', 'ethyl', 'event', 'exile', 'eyrie', 'facet', 'fairy', 'faith', 'fanny', 'fault', 'favor', 'feast', 'fence', 'ferry', 'fetus', 'fiber', 'fibre', 'field', 'fiery', 'fifth', 'fight', 'filly', 'filth', 'final', 'finer', 'first', 'flair', 'flame', 'flare', 'flash', 'fleck', 'flesh', 'flick', 'flint', 'flock', 'flood', 'floor', 'flour', 'fluke', 'flume', 'flung', 'flute', 'focus', 'foray', 'force', 'forte', 'forum', 'frame', 'fraud', 'freak', 'freon', 'fries', 'frock', 'front', 'frost', 'frown', 'fruit', 'furry', 'futon', 'gaffe', 'gator', 'gauge', 'gavel', 'genie', 'genre', 'ghost', 'giant', 'gland', 'glass', 'globe', 'gloom', 'glory', 'glove', 'going', 'goose', 'grace', 'grade', 'graft', 'grain', 'grand', 'grant', 'grape', 'graph', 'grasp', 'grass', 'gravy', 'greed', 'green', 'grief', 'grill', 'group', 'grove', 'guard', 'guava', 'guess', 'guest', 'guide', 'guilt', 'habit', 'haste', 'haunt', 'haven', 'havoc', 'hazel', 'heart', 'heavy', 'hedge', 'hello', 'herbs', 'heron', 'hobby', 'honey', 'honor', 'horde', 'horse', 'horst', 'hotel', 'hound', 'house', 'hovel', 'human', 'humor', 'hurry', 'hutch', 'hyena', 'icing', 'ideal', 'idiom', 'idiot', 'igloo', 'image', 'inbox', 'index', 'infix', 'inlay', 'input', 'irony', 'issue', 'ivory', 'jeans', 'jelly', 'jewel', 'jiffy', 'joint', 'judge', 'juice', 'jumbo', 'kayak', 'kazoo', 'kebab', 'kendo', 'ketch', 'kiosk', 'kitty', 'knife', 'knock', 'koala', 'label', 'labor', 'ladle', 'lanai', 'larch', 'larva', 'latex', 'lathe', 'latte', 'laugh', 'layer', 'leash', 'leave', 'legal', 'lemon', 'lemur', 'level', 'lever', 'light', 'lilac', 'limit', 'linen', 'liner', 'lipid', 'liver', 'llama', 'lobby', 'local', 'logic', 'login', 'louse', 'lover', 'lunch', 'lunge', 'lycra', 'macaw', 'macro', 'madam', 'magic', 'maize', 'major', 'maker', 'mambo', 'mango', 'manor', 'maple', 'march', 'marsh', 'match', 'maybe', 'mayor', 'means', 'mecca', 'medal', 'media', 'melon', 'merit', 'messy', 'metal', 'meter', 'metro', 'might', 'minor', 'miter', 'mixer', 'mocha', 'mochi', 'model', 'modem', 'molar', 'money', 'month', 'moody', 'moose', 'moron', 'motel', 'motor', 'mound', 'mouse', 'mouth', 'mover', 'movie', 'mower', 'music', 'nasal', 'nerve', 'nexus', 'niche', 'niece', 'night', 'ninja', 'noise', 'north', 'novel', 'nudge', 'nurse', 'nylon', 'nymph', 'oasis', 'ocean', 'octet', 'offer', 'oldie', 'olive', 'omega', 'onion', 'onset', 'opera', 'opium', 'order', 'organ', 'other', 'otter', 'ounce', 'ovary', 'owner', 'ozone', 'pagan', 'paint', 'panda', 'panel', 'panic', 'pansy', 'pants', 'panty', 'paper', 'parka', 'party', 'pasta', 'paste', 'patch', 'patio', 'patty', 'pause', 'payee', 'peace', 'peach', 'pearl', 'pecan', 'pedal', 'pence', 'penis', 'penny', 'peony', 'perch', 'petal', 'phase', 'phone', 'photo', 'piano', 'piece', 'piety', 'pilaf', 'pilot', 'pinot', 'pinto', 'pitch', 'pizza', 'place', 'plain', 'plane', 'plant', 'plate', 'pleat', 'plier', 'plume', 'point', 'poker', 'polyp', 'poppy', 'porch', 'potty', 'pouch', 'pound', 'power', 'press', 'price', 'pride', 'print', 'prior', 'prize', 'probe', 'proof', 'prose', 'prune', 'pulse', 'punch', 'pupil', 'puppy', 'purse', 'quail', 'quart', 'queen', 'query', 'quest', 'quiet', 'quill', 'quilt', 'quota', 'quote', 'rabbi', 'racer', 'radar', 'radio', 'rainy', 'raise', 'rally', 'ramen', 'ramie', 'ranch', 'range', 'ratio', 'raven', 'rayon', 'razor', 'reach', 'realm', 'rebel', 'relay', 'reply', 'reset', 'rhyme', 'rider', 'ridge', 'rifle', 'right', 'riser', 'river', 'roast', 'robin', 'robot', 'round', 'route', 'rugby', 'ruler', 'rumor', 'sabre', 'saint', 'salad', 'salon', 'salsa', 'satin', 'sauce', 'scale', 'scalp', 'scarf', 'scene', 'scent', 'scope', 'score', 'scorn', 'scout', 'scrap', 'screw', 'scrim', 'scrip', 'sense', 'sepal', 'serum', 'sewer', 'shack', 'shade', 'shame', 'shape', 'share', 'shark', 'shawl', 'shear', 'sheep', 'sheet', 'shelf', 'shell', 'shift', 'shine', 'shirt', 'shoat', 'shock', 'shoes', 'shoot', 'shore', 'short', 'shout', 'shred', 'siege', 'sight', 'silly', 'sitar', 'skate', 'skean', 'skill', 'skirt', 'skull', 'skunk', 'slang', 'slash', 'slate', 'slave', 'sleep', 'sleet', 'slice', 'slide', 'slime', 'slope', 'sloth', 'slump', 'smell', 'smile', 'smith', 'smock', 'smoke', 'smolt', 'snack', 'snail', 'snake', 'snarl', 'snuck', 'socks', 'sonar', 'sound', 'south', 'space', 'spade', 'spank', 'spark', 'spasm', 'spawn', 'spear', 'speed', 'spell', 'spelt', 'spice', 'spike', 'spill', 'spine', 'spite', 'split', 'spool', 'spoon', 'spork', 'sport', 'sprag', 'sprat', 'spray', 'spree', 'spume', 'squid', 'stack', 'staff', 'stage', 'stain', 'stair', 'stake', 'stalk', 'stall', 'stamp', 'stand', 'start', 'state', 'steak', 'steam', 'steel', 'stick', 'still', 'sting', 'stock', 'stole', 'stone', 'stool', 'store', 'storm', 'story', 'stove', 'strap', 'straw', 'strip', 'study', 'stuff', 'stump', 'style', 'suede', 'sugar', 'suite', 'surge', 'sushi', 'swamp', 'swath', 'sweat', 'swell', 'swine', 'swing', 'sword', 'synod', 'syrup', 'tabby', 'table', 'taste', 'tempo', 'tenet', 'tenor', 'tenth', 'tepee', 'theft', 'theme', 'thief', 'thigh', 'thing', 'thong', 'thorn', 'thumb', 'thump', 'thyme', 'tiara', 'tiger', 'timer', 'title', 'toast', 'today', 'tonic', 'tooth', 'topic', 'toque', 'torso', 'torte', 'total', 'touch', 'towel', 'tower', 'trace', 'track', 'tract', 'trade', 'trail', 'train', 'trait', 'tramp', 'trash', 'treat', 'trend', 'triad', 'trial', 'tribe', 'trick', 'troop', 'trout', 'trove', 'truck', 'trunk', 'trust', 'truth', 'tuber', 'tulip', 'tummy', 'tunic', 'tweet', 'twine', 'twins', 'twist', 'uncle', 'union', 'unity', 'upper', 'usage', 'usher', 'usual', 'value', 'vault', 'veldt', 'venom', 'venti', 'venue', 'verse', 'verve', 'video', 'villa', 'vinyl', 'viola', 'virus', 'visit', 'visor', 'vista', 'vitro', 'vixen', 'vodka', 'vogue', 'voice', 'vomit', 'voter', 'wafer', 'wagon', 'waist', 'waste', 'watch', 'water', 'wedge', 'weird', 'whack', 'whale', 'wharf', 'wheat', 'wheel', 'whelp', 'white', 'whole', 'whorl', 'widow', 'width', 'witch', 'woman', 'world', 'worry', 'worth', 'wound', 'wreck', 'wrist', 'wrong', 'yacht', 'yahoo', 'yeast', 'young', 'youth', 'zebra']\n",
      "['aardvark', 'abortion', 'accident', 'accuracy', 'achiever', 'activist', 'activity', 'addition', 'adoption', 'advocacy', 'advocate', 'affinity', 'aircraft', 'airfield', 'airforce', 'airplane', 'airspace', 'alliance', 'alluvium', 'almighty', 'alphabet', 'altitude', 'aluminum', 'ambience', 'ambition', 'analogue', 'analysis', 'ancestor', 'angstrom', 'anteater', 'antelope', 'antennae', 'anterior', 'antibody', 'anything', 'anywhere', 'aperitif', 'appendix', 'appetite', 'applause', 'approach', 'approval', 'aquarium', 'archives', 'argument', 'arm-rest', 'armament', 'armchair', 'artifact', 'assembly', 'asterisk', 'attacker', 'attitude', 'attorney', 'audience', 'babushka', 'bachelor', 'backbone', 'backburn', 'backdrop', 'backpack', 'backyard', 'bakeware', 'ballpark', 'bandanna', 'bankbook', 'barbecue', 'barbeque', 'baritone', 'barracks', 'barstool', 'baseball', 'baseline', 'basement', 'bassinet', 'bathrobe', 'bathroom', 'beancurd', 'beginner', 'behavior', 'believer', 'beverage', 'bifocals', 'birdbath', 'birdcage', 'birthday', 'blessing', 'blizzard', 'blowhole', 'boatload', 'boatyard', 'bondsman', 'bookcase', 'bookmark', 'borrower', 'bottling', 'boundary', 'boutique', 'bracelet', 'briefing', 'broccoli', 'brochure', 'brocolli', 'browsing', 'brushing', 'building', 'bungalow', 'bunghole', 'burn-out', 'business', 'caffeine', 'calculus', 'calendar', 'campaign', 'cannibal', 'capacity', 'carboxyl', 'cardigan', 'carnival', 'carotene', 'carriage', 'cartload', 'casement', 'castanet', 'casualty', 'catacomb', 'catalyst', 'category', 'causeway', 'celeriac', 'cemetery', 'cenotaph', 'ceramics', 'ceremony', 'cesspool', 'chairman', 'champion', 'chaplain', 'chastity', 'chasuble', 'checking', 'checkout', 'chemical', 'chestnut', 'chipmunk', 'chivalry', 'choosing', 'cilantro', 'cinnamon', 'civilian', 'clarinet', 'clavicle', 'clearing', 'cleavage', 'cloister', 'clothing', 'cocktail', 'codepage', 'codpiece', 'cofactor', 'cohesion', 'coleslaw', 'coliseum', 'collagen', 'collapse', 'colloquy', 'colonial', 'comeback', 'commerce', 'commuter', 'composer', 'compress', 'computer', 'concrete', 'conflict', 'congress', 'constant', 'consumer', 'contract', 'contrail', 'contrary', 'contrast', 'cookbook', 'coonskin', 'corduroy', 'cornmeal', 'corporal', 'corridor', 'countess', 'coverage', 'coverall', 'crackers', 'crayfish', 'creation', 'creative', 'creature', 'credenza', 'creditor', 'crewmate', 'cribbage', 'criminal', 'criteria', 'crusader', 'cucumber', 'cultivar', 'cupboard', 'currency', 'customer', 'cyclamen', 'cylinder', 'cytokine', 'daffodil', 'darkness', 'database', 'daughter', 'daylight', 'deadline', 'decision', 'decrease', 'defender', 'delivery', 'democrat', 'designer', 'detainee', 'detector', 'deviance', 'diabetes', 'dialogue', 'dictator', 'dilution', 'dinosaur', 'dipstick', 'director', 'disaster', 'discount', 'disguise', 'dispatch', 'disposal', 'disposer', 'distance', 'district', 'divalent', 'dividend', 'division', 'doctrine', 'document', 'donation', 'doorbell', 'doorknob', 'doorpost', 'doubling', 'doughnut', 'downfall', 'download', 'downtown', 'downturn', 'dragster', 'drainage', 'dressing', 'drinking', 'driveway', 'drudgery', 'duckling', 'dulcimer', 'duplexer', 'duration', 'dwelling', 'dynamics', 'dynamite', 'e-reader', 'earmuffs', 'earnings', 'earrings', 'ecclesia', 'ecliptic', 'ectoderm', 'effector', 'efficacy', 'eggplant', 'election', 'elephant', 'elevator', 'eleventh', 'emergent', 'emission', 'emphasis', 'employee', 'employer', 'endoderm', 'endpoint', 'engineer', 'entirety', 'entrance', 'envelope', 'ephemera', 'equality', 'equation', 'erection', 'espalier', 'estimate', 'estrogen', 'eternity', 'ethernet', 'everyone', 'eviction', 'evidence', 'examiner', 'exchange', 'executor', 'exercise', 'exocrine', 'explorer', 'exposure', 'exterior', 'external', 'eyebrows', 'eyeliner', 'facelift', 'facility', 'fairness', 'faithful', 'familiar', 'fanlight', 'farmland', 'fatigues', 'favorite', 'fedelini', 'feedback', 'festival', 'fibrosis', 'figurine', 'finisher', 'firewall', 'fishbone', 'flatboat', 'folklore', 'follower', 'football', 'footnote', 'footrest', 'footstep', 'footwear', 'forebear', 'forecast', 'forehead', 'forelimb', 'forestry', 'fortress', 'founding', 'fountain', 'foxglove', 'fraction', 'freezing', 'friction', 'frontier', 'frosting', 'function', 'fusarium', 'galoshes', 'gambling', 'gamebird', 'gasoline', 'gauntlet', 'genetics', 'genocide', 'geometry', 'geranium', 'goldfish', 'good-bye', 'goodness', 'goodwill', 'governor', 'grab-bag', 'gradient', 'graduate', 'graffiti', 'grandmom', 'grandson', 'gravitas', 'guidance', 'hacienda', 'hackwork', 'handball', 'handicap', 'handover', 'handrail', 'hard-hat', 'hardship', 'hardware', 'hazelnut', 'headache', 'headline', 'headrest', 'hedgehog', 'heirloom', 'heritage', 'highland', 'homeland', 'hometown', 'homework', 'homicide', 'honeybee', 'honeydew', 'hospital', 'howitzer', 'humanity', 'humidity', 'hyacinth', 'hydrogen', 'hydroxyl', 'hygienic', 'icecream', 'identity', 'ideology', 'ignorant', 'illusion', 'immortal', 'impostor', 'incident', 'incision', 'increase', 'industry', 'infinite', 'infusion', 'innocent', 'insomnia', 'instance', 'instinct', 'integral', 'interest', 'interior', 'internet', 'interval', 'invasion', 'inventor', 'investor', 'ironclad', 'ischemia', 'isogloss', 'jalapeño', 'jealousy', 'jeweller', 'jodhpurs', 'judgment', 'julienne', 'jumpsuit', 'kamikaze', 'kangaroo', 'keyboard', 'keystone', 'kick-off', 'kielbasa', 'kilogram', 'kindness', 'kingfish', 'kneejerk', 'knickers', 'knitting', 'know-how', 'kohlrabi', 'labourer', 'landform', 'landmine', 'language', 'latitude', 'laughter', 'lawmaker', 'learning', 'lemonade', 'leverage', 'licorice', 'lifetime', 'lighting', 'likeness', 'linguist', 'lipstick', 'literate', 'lobotomy', 'locality', 'location', 'lollipop', 'longboat', 'loophole', 'macaroni', 'macaroon', 'magazine', 'mainland', 'majority', 'makeover', 'mandarin', 'mandolin', 'mangrove', 'manicure', 'marathon', 'mariachi', 'marketer', 'marksman', 'marriage', 'material', 'mattress', 'meantime', 'meatball', 'meatloaf', 'mechanic', 'medicine', 'membrane', 'memorial', 'merchant', 'meridian', 'meringue', 'metaphor', 'midnight', 'milepost', 'military', 'minister', 'minority', 'misnomer', 'misogyny', 'mobility', 'modeling', 'molasses', 'molecule', 'monopoly', 'monument', 'mortgage', 'mosquito', 'motorcar', 'mountain', 'movement', 'muscatel', 'mushroom', 'musician', 'mustache', 'mutation', 'necklace', 'negligee', 'neighbor', 'nestling', 'nestmate', 'nickname', 'nitrogen', 'nonsense', 'notation', 'notebook', 'numeracy', 'nutrient', 'obsidian', 'obstacle', 'occasion', 'odometer', 'off-ramp', 'offering', 'official', 'omission', 'omnivore', 'oncology', 'operator', 'opponent', 'opposite', 'optimist', 'ordinary', 'original', 'ornament', 'outhouse', 'overcoat', 'overhead', 'overload', 'overview', 'painting', 'pamphlet', 'pancreas', 'pantsuit', 'paradise', 'paranoia', 'particle', 'passbook', 'passport', 'password', 'patentee', 'patience', 'pattypan', 'pavement', 'pavilion', 'pawnshop', 'pegboard', 'pendulum', 'pentagon', 'personal', 'petition', 'pheasant', 'phrasing', 'physical', 'pinafore', 'pinecone', 'pipeline', 'pitching', 'planning', 'platelet', 'platform', 'platinum', 'platypus', 'playroom', 'pleasure', 'politics', 'polliwog', 'popsicle', 'populist', 'porpoise', 'porthole', 'portrait', 'position', 'possible', 'pounding', 'practice', 'presence', 'pressure', 'prestige', 'princess', 'printing', 'priority', 'prisoner', 'producer', 'progress', 'property', 'proposal', 'prospect', 'protocol', 'provider', 'province', 'proximal', 'purchase', 'pyridine', 'quadrant', 'quantity', 'question', 'radiator', 'railroad', 'raincoat', 'reactant', 'reaction', 'receiver', 'receptor', 'recliner', 'recorder', 'recovery', 'redesign', 'redirect', 'register', 'registry', 'reindeer', 'relation', 'relative', 'religion', 'reminder', 'reporter', 'republic', 'research', 'resident', 'resource', 'response', 'restroom', 'retailer', 'revenant', 'reversal', 'revolver', 'rhetoric', 'ringworm', 'riverbed', 'robotics', 'roommate', 'rosemary', 'rotation', 'rudiment', 'rutabaga', 'sailboat', 'salesman', 'sanction', 'sanctity', 'sandwich', 'savannah', 'scaffold', 'scallion', 'scallops', 'scenario', 'schedule', 'schooner', 'scimitar', 'scissors', 'scorpion', 'screamer', 'screw-up', 'scrutiny', 'seaplane', 'seashore', 'security', 'sediment', 'semester', 'sentence', 'sequence', 'severity', 'shallows', 'shipping', 'shipyard', 'shoehorn', 'shoelace', 'shopping', 'shortage', 'shoulder', 'shutdown', 'sickness', 'sidewalk', 'silkworm', 'singular', 'skeleton', 'skullcap', 'skylight', 'sleeping', 'slippers', 'smelting', 'sneakers', 'snowplow', 'snowsuit', 'softball', 'software', 'solidity', 'solution', 'solvency', 'sombrero', 'somebody', 'songbird', 'soulmate', 'sourwood', 'souvenir', 'sparerib', 'speaking', 'spectrum', 'spelling', 'spending', 'splendor', 'sprinter', 'spyglass', 'squatter', 'squeegee', 'squirrel', 'stacking', 'stallion', 'standard', 'standing', 'standoff', 'step-son', 'stiletto', 'stimulus', 'stir-fry', 'stitcher', 'stopsign', 'stranger', 'strategy', 'strawman', 'strength', 'struggle', 'sturgeon', 'subgroup', 'subprime', 'subtitle', 'suitcase', 'sunlight', 'sunshine', 'supplier', 'surprise', 'surround', 'survival', 'survivor', 'swanling', 'swimming', 'swimsuit', 'sycamore', 'symmetry', 'sympathy', 'syndrome', 'tabletop', 'tailspin', 'take-out', 'takeover', 'tank-top', 'tarragon', 'taxpayer', 'teaching', 'teammate', 'teenager', 'teletype', 'tendency', 'tenement', 'tentacle', 'teriyaki', 'terminal', 'terrapin', 'textbook', 'theology', 'thermals', 'thinking', 'thousand', 'timeline', 'titanium', 'tolerant', 'tomorrow', 'tonality', 'toreador', 'tortilla', 'tortoise', 'township', 'trachoma', 'tracking', 'training', 'transfer', 'trapdoor', 'traveler', 'treasure', 'treasury', 'triangle', 'trillion', 'trombone', 'trousers', 'turmeric', 'turnover', 'tweezers', 'twilight', 'typeface', 'umbrella', 'universe', 'upstairs', 'vacation', 'validate', 'validity', 'valuable', 'variable', 'vascular', 'vaulting', 'velocity', 'vestment', 'vicinity', 'vignette', 'vineyard', 'violence', 'virginal', 'vitality', 'waitress', 'wardrobe', 'waterbed', 'waveform', 'weakness', 'wildlife', 'wisteria', 'woodland', 'woodshed', 'woodwind', 'workshop', 'wrapping', 'wrestler', 'wriggler', 'yarmulke', 'yourself', 'ziggurat', 'zucchini']\n"
     ]
    }
   ],
   "source": [
    "\n",
    "two2 = [val for val in noun if len(val) == 2]\n",
    "print(two2)\n",
    "\n",
    "three2 = [val for val in noun if len(val) == 3]\n",
    "print(three2)\n",
    "\n",
    "five2 = [val for val in noun if len(val) == 5]\n",
    "print(five2)\n",
    "\n",
    "eight2 = [val for val in noun if len(val) == 8]\n",
    "print(eight2)\n",
    "\n"
   ]
  },
  {
   "cell_type": "code",
   "execution_count": 135,
   "id": "0d78e791",
   "metadata": {},
   "outputs": [
    {
     "name": "stdout",
     "output_type": "stream",
     "text": [
      "a slick  pen  glides  across  paper \n",
      "a scraping the  ruler’s  edge \n",
      "to  a  line beside  many  lonesome  dots \n",
      "The line of  best  fit  as  snug as  a sweater. \n",
      "wispy slope is  a  mere  fraction,  but  the  line it  fabricated  would stretch  on, \n",
      "Instead, an  infinite amount  of  graph  paper.  \n",
      "story-telling the  line traveled,  it  would pass  by  many  data  points \n",
      "midnight  the  wispy  voices  of  the  outliers  would be heard on  the  wind \n",
      "villa to  the  line  from  worlds  away,  asking  it  to  contort \n",
      "icy  come and  gather  the lonely  dots,  and hold them  shaking  in  its  tepid arms \n",
      "ad  the  line  never  does. \n",
      "a ,  it  continues  on  without  a  sideways  glance\n",
      "a  the same  slope forever the same straight  line. \n",
      "\n"
     ]
    }
   ],
   "source": [
    "rules ={\n",
    "\n",
    "     \"origin\": \"#one# slick  pen  glides  across  paper \\n\"\n",
    "                \"#one# scraping the  ruler’s  edge \\n\"\n",
    "                \"#two#  a  line beside  many  lonesome  dots \\n\"\n",
    "              \"#three# line of  best  fit  as  snug as  a sweater. \\n\"\n",
    "                \"#five# slope is  a  mere  fraction,  but  the  line it  fabricated  would stretch  on, \\n\"\n",
    "                \"#eight# an  infinite amount  of  graph  paper.  \\n\"\n",
    "                \"#thirteen# the  line traveled,  it  would pass  by  many  data  points \\n\"\n",
    "                 \"#eight2#  the  wispy  voices  of  the  outliers  would be heard on  the  wind \\n\"\n",
    "                \"#five2# to  the  line  from  worlds  away,  asking  it  to  contort \\n\"\n",
    "                \"#three2#  come and  gather  the lonely  dots,  and hold them  shaking  in  its  tepid arms \\n\"\n",
    "                 \"#two2#  the  line  never  does. \\n\"\n",
    "                  \"#one2# ,  it  continues  on  without  a  sideways  glance\\n\"\n",
    "                \"#one3#  the same  slope forever the same straight  line. \\n\",\n",
    "    \n",
    "     \"one\" : [random.choice(one)\n",
    "    ],\n",
    "     \"two\" : [random.choice(two)\n",
    "    ],\n",
    "     \"three\" : [random.choice(three)\n",
    "    ],\n",
    "      \"five\" : [random.choice(five)\n",
    "    ],\n",
    "       \"eight\" : [random.choice(eight)\n",
    "    ],\n",
    "        \"thirteen\" : [random.choice(thirteen)\n",
    "    ],\n",
    "       \"eight2\" : [random.choice(eight2)\n",
    "    ],\n",
    "    \n",
    "       \"five2\" : [random.choice(five2)\n",
    "    ],\n",
    "         \"three2\" : [random.choice(three2)\n",
    "    ],\n",
    "     \"two2\" : [random.choice(two2)\n",
    "    ],\n",
    "     \"one2\" : [random.choice(one)\n",
    "    ],\n",
    "      \"one3\" : [random.choice(one)\n",
    "    ],\n",
    "\n",
    "} \n",
    "grammar = tracery.Grammar(rules)\n",
    "grammar.add_modifiers(base_english)\n",
    "print(grammar.flatten(\"#origin#\"))"
   ]
  },
  {
   "cell_type": "code",
   "execution_count": null,
   "id": "ff83fbd2",
   "metadata": {},
   "outputs": [],
   "source": []
  }
 ],
 "metadata": {
  "kernelspec": {
   "display_name": "Python 3 (ipykernel)",
   "language": "python",
   "name": "python3"
  },
  "language_info": {
   "codemirror_mode": {
    "name": "ipython",
    "version": 3
   },
   "file_extension": ".py",
   "mimetype": "text/x-python",
   "name": "python",
   "nbconvert_exporter": "python",
   "pygments_lexer": "ipython3",
   "version": "3.9.7"
  }
 },
 "nbformat": 4,
 "nbformat_minor": 5
}
