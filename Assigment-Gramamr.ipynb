{
 "cells": [
  {
   "cell_type": "markdown",
   "id": "486be104",
   "metadata": {},
   "source": [
    "# Assignment 3- Grammar"
   ]
  },
  {
   "cell_type": "code",
   "execution_count": 395,
   "id": "e5ebadcf",
   "metadata": {},
   "outputs": [
    {
     "name": "stdout",
     "output_type": "stream",
     "text": [
      "Requirement already satisfied: tracery in /Users/yuanfang/opt/anaconda3/lib/python3.9/site-packages (0.1.1)\r\n"
     ]
    }
   ],
   "source": [
    "import sys\n",
    "!{sys.executable} -m pip install tracery"
   ]
  },
  {
   "cell_type": "code",
   "execution_count": 396,
   "id": "8b7cc5ff",
   "metadata": {},
   "outputs": [],
   "source": [
    "import tracery"
   ]
  },
  {
   "cell_type": "code",
   "execution_count": 397,
   "id": "4e8b3aa6",
   "metadata": {},
   "outputs": [],
   "source": [
    "import random"
   ]
  },
  {
   "cell_type": "code",
   "execution_count": 398,
   "id": "4fdd8605",
   "metadata": {},
   "outputs": [],
   "source": [
    "from tracery.modifiers import base_english"
   ]
  },
  {
   "cell_type": "code",
   "execution_count": 399,
   "id": "e6930565",
   "metadata": {
    "scrolled": true
   },
   "outputs": [
    {
     "data": {
      "text/plain": [
       "dict_keys(['replace', 'capitalizeAll', 'capitalize', 'a', 'firstS', 's', 'ed', 'uppercase', 'lowercase'])"
      ]
     },
     "execution_count": 399,
     "metadata": {},
     "output_type": "execute_result"
    }
   ],
   "source": [
    "base_english.keys()"
   ]
  },
  {
   "cell_type": "markdown",
   "id": "5dd6c560",
   "metadata": {},
   "source": [
    "* #profession.a# - .a is what the base english has a/an\n",
    "* .s is the 复数，stroy -> stories mouse -> mice child -> childrens"
   ]
  },
  {
   "cell_type": "code",
   "execution_count": 400,
   "id": "f2f09b9a",
   "metadata": {},
   "outputs": [],
   "source": [
    "noun = open(\"nounlist.txt\").read().split(\"\\n\")"
   ]
  },
  {
   "cell_type": "code",
   "execution_count": 401,
   "id": "983ca487",
   "metadata": {},
   "outputs": [],
   "source": [
    "verb = open(\"verbs.txt\").read().split(\"\\n\")"
   ]
  },
  {
   "cell_type": "code",
   "execution_count": 402,
   "id": "a52dd1a4",
   "metadata": {},
   "outputs": [],
   "source": [
    "noun = [item for item in noun if len(item) >0]"
   ]
  },
  {
   "cell_type": "code",
   "execution_count": 403,
   "id": "0628a70e",
   "metadata": {},
   "outputs": [
    {
     "data": {
      "text/plain": [
       "[]"
      ]
     },
     "execution_count": 403,
     "metadata": {},
     "output_type": "execute_result"
    }
   ],
   "source": [
    "[item for item in noun if len(item) == 0]"
   ]
  },
  {
   "cell_type": "code",
   "execution_count": 404,
   "id": "b38d8e8f",
   "metadata": {
    "scrolled": true
   },
   "outputs": [],
   "source": [
    "ne_list = [item for item in noun if item[0] == \"o\"]"
   ]
  },
  {
   "cell_type": "code",
   "execution_count": 405,
   "id": "ebea83fb",
   "metadata": {},
   "outputs": [],
   "source": [
    "two_list = [item for item in noun if item[0] == \"t\" ]"
   ]
  },
  {
   "cell_type": "code",
   "execution_count": 406,
   "id": "d447f4c0",
   "metadata": {},
   "outputs": [],
   "source": [
    "three_list = [item for item in noun if item[0] == \"t\" ]"
   ]
  },
  {
   "cell_type": "code",
   "execution_count": 407,
   "id": "c61ca37e",
   "metadata": {},
   "outputs": [],
   "source": [
    "four_list = [item for item in noun if item[0] == \"f\" ]"
   ]
  },
  {
   "cell_type": "code",
   "execution_count": 408,
   "id": "0703b645",
   "metadata": {},
   "outputs": [],
   "source": [
    "five_list = [item for item in noun if item[0] == \"f\" ]"
   ]
  },
  {
   "cell_type": "code",
   "execution_count": 409,
   "id": "66f2770a",
   "metadata": {},
   "outputs": [
    {
     "name": "stdout",
     "output_type": "stream",
     "text": [
      "omega\n"
     ]
    }
   ],
   "source": [
    "print (random.choice(ne_list))"
   ]
  },
  {
   "cell_type": "code",
   "execution_count": 410,
   "id": "e2c0a190",
   "metadata": {},
   "outputs": [
    {
     "name": "stdout",
     "output_type": "stream",
     "text": [
      "trout\n"
     ]
    }
   ],
   "source": [
    "print (random.choice(two_list))"
   ]
  },
  {
   "cell_type": "code",
   "execution_count": 411,
   "id": "2d3cee86",
   "metadata": {},
   "outputs": [
    {
     "name": "stdout",
     "output_type": "stream",
     "text": [
      "father-in-law\n"
     ]
    }
   ],
   "source": [
    "print (random.choice(four_list))"
   ]
  },
  {
   "cell_type": "code",
   "execution_count": 417,
   "id": "481d7c8e",
   "metadata": {},
   "outputs": [
    {
     "name": "stdout",
     "output_type": "stream",
     "text": [
      "I solve one solvency, one kid spends offense! \n",
      "offense divide two trouts, two kids settle ton! \n",
      "ton plug three fennels, three kids enter trailpatrol! \n",
      "trailpatrol forsake four leverages, four kids expect fortress! \n",
      "fortress expect five viewers, five kids represent footwear! \n",
      "\n"
     ]
    }
   ],
   "source": [
    "rules ={\n",
    "\n",
    "     \"origin\": \"I #verb1# one #noun1#, one kid #verb2.s# #noun2#! \\n\"\n",
    "                \"#noun2# #verb3# two #noun.s#, two kids #verb4# #noun3#! \\n\"\n",
    "                \"#noun3# #verb5# three #noun4.s#, three kids #verb6# #noun5#! \\n\"\n",
    "              \"#noun5# #verb7# four #noun6.s#, four kids #verb8# #noun7#! \\n\"\n",
    "                \"#noun7# #verb8# five #noun8.s#, five kids #verb9# #noun9#! \\n\",\n",
    "    \n",
    "     \"verb1\" : [random.choice(verb)\n",
    "    ],\n",
    "     \"verb2\" : [random.choice(verb)\n",
    "    ],\n",
    "     \"verb3\" : [random.choice(verb)\n",
    "    ],\n",
    "      \"verb4\" : [random.choice(verb)\n",
    "    ],\n",
    "       \"verb5\" : [random.choice(verb)\n",
    "    ],\n",
    "        \"verb6\" : [random.choice(verb)\n",
    "    ],\n",
    "       \"verb7\" : [random.choice(verb)\n",
    "    ],\n",
    "    \n",
    "       \"verb8\" : [random.choice(verb)\n",
    "    ],\n",
    "         \"verb9\" : [random.choice(verb)\n",
    "    ],\n",
    "     \"noun\" : [random.choice(noun)\n",
    "    ],\n",
    "     \"noun1\" : [random.choice(noun)\n",
    "    ],\n",
    "      \"noun2\" : [random.choice(ne_list)\n",
    "    ],\n",
    "       \"noun3\" : [random.choice(two_list)\n",
    "    ],\n",
    "         \"noun4\" : [random.choice(noun)\n",
    "    ],\n",
    "        \"noun5\" : [random.choice(two_list)\n",
    "    ],\n",
    "         \"noun6\" : [random.choice(noun)\n",
    "    ],\n",
    "          \"noun7\" : [random.choice(four_list)\n",
    "    ],\n",
    "          \"noun8\" : [random.choice(noun)\n",
    "    ],\n",
    "           \"noun9\" : [random.choice(five_list)\n",
    "    ],\n",
    "} \n",
    "grammar = tracery.Grammar(rules)\n",
    "grammar.add_modifiers(base_english)\n",
    "print(grammar.flatten(\"#origin#\"))"
   ]
  },
  {
   "cell_type": "markdown",
   "id": "545c6519",
   "metadata": {},
   "source": [
    "\\* capitalization\n",
    "* a/an\n",
    "* repetition \n",
    "\n"
   ]
  },
  {
   "cell_type": "code",
   "execution_count": null,
   "id": "f21bd0e0",
   "metadata": {},
   "outputs": [],
   "source": []
  }
 ],
 "metadata": {
  "kernelspec": {
   "display_name": "Python 3 (ipykernel)",
   "language": "python",
   "name": "python3"
  },
  "language_info": {
   "codemirror_mode": {
    "name": "ipython",
    "version": 3
   },
   "file_extension": ".py",
   "mimetype": "text/x-python",
   "name": "python",
   "nbconvert_exporter": "python",
   "pygments_lexer": "ipython3",
   "version": "3.9.7"
  }
 },
 "nbformat": 4,
 "nbformat_minor": 5
}
