{
 "cells": [
  {
   "cell_type": "code",
   "execution_count": 128,
   "id": "d65d62f7",
   "metadata": {},
   "outputs": [],
   "source": [
    "text_cookie = open('fortunecookies.txt').read()"
   ]
  },
  {
   "cell_type": "markdown",
   "id": "52fd08d5",
   "metadata": {},
   "source": [
    "text is from https://github.com/reggi/fortune-cookie/blob/master/fortune-cookies.txt "
   ]
  },
  {
   "cell_type": "code",
   "execution_count": 129,
   "id": "45f4b96d",
   "metadata": {},
   "outputs": [],
   "source": [
    "new_text =  open('1661.txt').read()"
   ]
  },
  {
   "cell_type": "code",
   "execution_count": 82,
   "id": "73991ab1",
   "metadata": {},
   "outputs": [],
   "source": [
    "import random"
   ]
  },
  {
   "cell_type": "code",
   "execution_count": 83,
   "id": "090ad6e7",
   "metadata": {},
   "outputs": [
    {
     "name": "stdout",
     "output_type": "stream",
     "text": [
      "Collecting package metadata (current_repodata.json): done\n",
      "Solving environment: done\n",
      "\n",
      "# All requested packages already installed.\n",
      "\n"
     ]
    }
   ],
   "source": [
    "import sys\n",
    "!conda install --prefix {sys.prefix} -y -c pytorch pytorch"
   ]
  },
  {
   "cell_type": "code",
   "execution_count": 84,
   "id": "fca42ea9",
   "metadata": {},
   "outputs": [
    {
     "name": "stdout",
     "output_type": "stream",
     "text": [
      "Requirement already satisfied: transformers in /Users/yuanfang/opt/anaconda3/lib/python3.9/site-packages (4.17.0)\n",
      "Requirement already satisfied: requests in /Users/yuanfang/opt/anaconda3/lib/python3.9/site-packages (from transformers) (2.26.0)\n",
      "Requirement already satisfied: tokenizers!=0.11.3,>=0.11.1 in /Users/yuanfang/opt/anaconda3/lib/python3.9/site-packages (from transformers) (0.11.6)\n",
      "Requirement already satisfied: pyyaml>=5.1 in /Users/yuanfang/opt/anaconda3/lib/python3.9/site-packages (from transformers) (6.0)\n",
      "Requirement already satisfied: numpy>=1.17 in /Users/yuanfang/opt/anaconda3/lib/python3.9/site-packages (from transformers) (1.20.3)\n",
      "Requirement already satisfied: huggingface-hub<1.0,>=0.1.0 in /Users/yuanfang/opt/anaconda3/lib/python3.9/site-packages (from transformers) (0.4.0)\n",
      "Requirement already satisfied: sacremoses in /Users/yuanfang/opt/anaconda3/lib/python3.9/site-packages (from transformers) (0.0.49)\n",
      "Requirement already satisfied: packaging>=20.0 in /Users/yuanfang/opt/anaconda3/lib/python3.9/site-packages (from transformers) (21.0)\n",
      "Requirement already satisfied: filelock in /Users/yuanfang/opt/anaconda3/lib/python3.9/site-packages (from transformers) (3.3.1)\n",
      "Requirement already satisfied: regex!=2019.12.17 in /Users/yuanfang/opt/anaconda3/lib/python3.9/site-packages (from transformers) (2021.8.3)\n",
      "Requirement already satisfied: tqdm>=4.27 in /Users/yuanfang/opt/anaconda3/lib/python3.9/site-packages (from transformers) (4.62.3)\n",
      "Requirement already satisfied: typing-extensions>=3.7.4.3 in /Users/yuanfang/opt/anaconda3/lib/python3.9/site-packages (from huggingface-hub<1.0,>=0.1.0->transformers) (3.10.0.2)\n",
      "Requirement already satisfied: pyparsing>=2.0.2 in /Users/yuanfang/opt/anaconda3/lib/python3.9/site-packages (from packaging>=20.0->transformers) (3.0.4)\n",
      "Requirement already satisfied: certifi>=2017.4.17 in /Users/yuanfang/opt/anaconda3/lib/python3.9/site-packages (from requests->transformers) (2021.10.8)\n",
      "Requirement already satisfied: idna<4,>=2.5 in /Users/yuanfang/opt/anaconda3/lib/python3.9/site-packages (from requests->transformers) (3.2)\n",
      "Requirement already satisfied: urllib3<1.27,>=1.21.1 in /Users/yuanfang/opt/anaconda3/lib/python3.9/site-packages (from requests->transformers) (1.26.7)\n",
      "Requirement already satisfied: charset-normalizer~=2.0.0 in /Users/yuanfang/opt/anaconda3/lib/python3.9/site-packages (from requests->transformers) (2.0.4)\n",
      "Requirement already satisfied: click in /Users/yuanfang/opt/anaconda3/lib/python3.9/site-packages (from sacremoses->transformers) (8.0.3)\n",
      "Requirement already satisfied: joblib in /Users/yuanfang/opt/anaconda3/lib/python3.9/site-packages (from sacremoses->transformers) (1.1.0)\n",
      "Requirement already satisfied: six in /Users/yuanfang/opt/anaconda3/lib/python3.9/site-packages (from sacremoses->transformers) (1.16.0)\n"
     ]
    }
   ],
   "source": [
    "import sys\n",
    "!{sys.executable} -m pip install transformers"
   ]
  },
  {
   "cell_type": "code",
   "execution_count": 85,
   "id": "dae31c00",
   "metadata": {},
   "outputs": [
    {
     "name": "stdout",
     "output_type": "stream",
     "text": [
      "Requirement already satisfied: markovify in /Users/yuanfang/opt/anaconda3/lib/python3.9/site-packages (0.9.4)\r\n",
      "Requirement already satisfied: unidecode in /Users/yuanfang/opt/anaconda3/lib/python3.9/site-packages (from markovify) (1.2.0)\r\n"
     ]
    }
   ],
   "source": [
    "!pip install markovify"
   ]
  },
  {
   "cell_type": "code",
   "execution_count": 130,
   "id": "2a390613",
   "metadata": {},
   "outputs": [],
   "source": [
    "import markovify"
   ]
  },
  {
   "cell_type": "code",
   "execution_count": 131,
   "id": "d79c7605",
   "metadata": {},
   "outputs": [],
   "source": [
    "import json"
   ]
  },
  {
   "cell_type": "code",
   "execution_count": 132,
   "id": "3532161e",
   "metadata": {},
   "outputs": [],
   "source": [
    "import tracery"
   ]
  },
  {
   "cell_type": "code",
   "execution_count": 133,
   "id": "f64e7555",
   "metadata": {},
   "outputs": [],
   "source": [
    "from tracery.modifiers import base_english"
   ]
  },
  {
   "cell_type": "code",
   "execution_count": 134,
   "id": "ef3b8684",
   "metadata": {},
   "outputs": [
    {
     "name": "stdout",
     "output_type": "stream",
     "text": [
      "Your smile always brightens the cloudiest days.\n"
     ]
    }
   ],
   "source": [
    "generator_a = markovify.Text(text_cookie)\n",
    "print(generator_a.make_short_sentence(60, test_output=False))"
   ]
  },
  {
   "cell_type": "code",
   "execution_count": 135,
   "id": "9e0e9b42",
   "metadata": {},
   "outputs": [
    {
     "name": "stdout",
     "output_type": "stream",
     "text": [
      "He put themselves in following out there was obvious that we would often twice.\n"
     ]
    }
   ],
   "source": [
    "gen_a_1 = markovify.Text(new_text, state_size=1)\n",
    "print(gen_a_1.make_sentence(test_output=False))"
   ]
  },
  {
   "cell_type": "code",
   "execution_count": 136,
   "id": "bfb81a6f",
   "metadata": {},
   "outputs": [],
   "source": [
    "class SentencesByChar(markovify.Text):\n",
    "    def word_split(self, sentence):\n",
    "        return list(sentence)\n",
    "    def word_join(self, words):\n",
    "        return \"\".join(words)"
   ]
  },
  {
   "cell_type": "code",
   "execution_count": 137,
   "id": "e928dcea",
   "metadata": {},
   "outputs": [
    {
     "name": "stdout",
     "output_type": "stream",
     "text": [
      "Save the common sense is the power to changed today in order to succeed.\n"
     ]
    }
   ],
   "source": [
    "gen_a_char = SentencesByChar(text_cookie, state_size=7)\n",
    "print(gen_a_char.make_sentence(test_output=False).replace(\"\\n\", \" \"))"
   ]
  },
  {
   "cell_type": "code",
   "execution_count": 141,
   "id": "dacc8ce1",
   "metadata": {},
   "outputs": [],
   "source": [
    "# change to \"word\" for a word-level model\n",
    "level = \"char\"\n",
    "# controls the length of the n-gram\n",
    "order = 10\n",
    "# controls the number of lines to output\n",
    "output_n = 1000\n",
    "# weights between the models; text A first, text B second.\n",
    "# if you want to completely exclude one model, set its corresponding value to 0\n",
    "weights = [0.4, 0.6]\n",
    "# limit sentence output to this number of characters\n",
    "length_limit = 200"
   ]
  },
  {
   "cell_type": "markdown",
   "id": "569f148f",
   "metadata": {},
   "source": [
    "* \n",
    "subjects = []\n",
    "for word in doc:\n",
    "    if word.dep_ in ('nsubj', 'nsubjpass'):\n",
    "        subjects.append(flatten_subtree(word.subtree))\n",
    "   "
   ]
  },
  {
   "cell_type": "code",
   "execution_count": 144,
   "id": "b87a9541",
   "metadata": {},
   "outputs": [
    {
     "name": "stdout",
     "output_type": "stream",
     "text": [
      "['You have a heart of gold.']\n",
      "['You have a heart of gold.', 'You say that all is well with him.']\n",
      "['You have a heart of gold.', 'You say that all is well with him.', 'You’re mad!']\n",
      "['You have a heart of gold.', 'You say that all is well with him.', 'You’re mad!']\n",
      "['You have a heart of gold.', 'You say that all is well with him.', 'You’re mad!']\n",
      "['You have a heart of gold.', 'You say that all is well with him.', 'You’re mad!', 'You must lock yourself have remained.']\n",
      "['You have a heart of gold.', 'You say that all is well with him.', 'You’re mad!', 'You must lock yourself have remained.']\n",
      "['You have a heart of gold.', 'You say that all is well with him.', 'You’re mad!', 'You must lock yourself have remained.']\n",
      "['You have a heart of gold.', 'You say that all is well with him.', 'You’re mad!', 'You must lock yourself have remained.']\n",
      "['You have a heart of gold.', 'You say that all is well with him.', 'You’re mad!', 'You must lock yourself have remained.']\n",
      "['You have a heart of gold.', 'You say that all is well with him.', 'You’re mad!', 'You must lock yourself have remained.']\n",
      "['You have a heart of gold.', 'You say that all is well with him.', 'You’re mad!', 'You must lock yourself have remained.', 'You see how quickly to Miss Stoper.']\n",
      "['You have a heart of gold.', 'You say that all is well with him.', 'You’re mad!', 'You must lock yourself have remained.', 'You see how quickly to Miss Stoper.']\n",
      "['You have a heart of gold.', 'You say that all is well with him.', 'You’re mad!', 'You must lock yourself have remained.', 'You see how quickly to Miss Stoper.']\n",
      "['You have a heart of gold.', 'You say that all is well with him.', 'You’re mad!', 'You must lock yourself have remained.', 'You see how quickly to Miss Stoper.', 'You are more likely to call.']\n",
      "['You have a heart of gold.', 'You say that all is well with him.', 'You’re mad!', 'You must lock yourself have remained.', 'You see how quickly to Miss Stoper.', 'You are more likely to call.']\n",
      "['You have a heart of gold.', 'You say that all is well with him.', 'You’re mad!', 'You must lock yourself have remained.', 'You see how quickly to Miss Stoper.', 'You are more likely to call.']\n",
      "['You have a heart of gold.', 'You say that all is well with him.', 'You’re mad!', 'You must lock yourself have remained.', 'You see how quickly to Miss Stoper.', 'You are more likely to call.']\n",
      "['You have a heart of gold.', 'You say that all is well with him.', 'You’re mad!', 'You must lock yourself have remained.', 'You see how quickly to Miss Stoper.', 'You are more likely to call.']\n",
      "['You have a heart of gold.', 'You say that all is well with him.', 'You’re mad!', 'You must lock yourself have remained.', 'You see how quickly to Miss Stoper.', 'You are more likely to call.']\n",
      "['You have a heart of gold.', 'You say that all is well with him.', 'You’re mad!', 'You must lock yourself have remained.', 'You see how quickly to Miss Stoper.', 'You are more likely to call.']\n",
      "['You have a heart of gold.', 'You say that all is well with him.', 'You’re mad!', 'You must lock yourself have remained.', 'You see how quickly to Miss Stoper.', 'You are more likely to call.', 'You know my methods.']\n",
      "['You have a heart of gold.', 'You say that all is well with him.', 'You’re mad!', 'You must lock yourself have remained.', 'You see how quickly to Miss Stoper.', 'You are more likely to call.', 'You know my methods.']\n",
      "['You have a heart of gold.', 'You say that all is well with him.', 'You’re mad!', 'You must lock yourself have remained.', 'You see how quickly to Miss Stoper.', 'You are more likely to call.', 'You know my methods.']\n",
      "['You have a heart of gold.', 'You say that all is well with him.', 'You’re mad!', 'You must lock yourself have remained.', 'You see how quickly to Miss Stoper.', 'You are more likely to call.', 'You know my methods.', 'You see this other page in red ink?']\n",
      "['You have a heart of gold.', 'You say that all is well with him.', 'You’re mad!', 'You must lock yourself have remained.', 'You see how quickly to Miss Stoper.', 'You are more likely to call.', 'You know my methods.', 'You see this other page in red ink?']\n",
      "['You have a heart of gold.', 'You say that all is well with him.', 'You’re mad!', 'You must lock yourself have remained.', 'You see how quickly to Miss Stoper.', 'You are more likely to call.', 'You know my methods.', 'You see this other page in red ink?']\n",
      "['You have a heart of gold.', 'You say that all is well with him.', 'You’re mad!', 'You must lock yourself have remained.', 'You see how quickly to Miss Stoper.', 'You are more likely to call.', 'You know my methods.', 'You see this other page in red ink?']\n",
      "['You have a heart of gold.', 'You say that all is well with him.', 'You’re mad!', 'You must lock yourself have remained.', 'You see how quickly to Miss Stoper.', 'You are more likely to call.', 'You know my methods.', 'You see this other page in red ink?']\n",
      "['You have a heart of gold.', 'You say that all is well with him.', 'You’re mad!', 'You must lock yourself have remained.', 'You see how quickly to Miss Stoper.', 'You are more likely to call.', 'You know my methods.', 'You see this other page in red ink?']\n",
      "['You have a heart of gold.', 'You say that all is well with him.', 'You’re mad!', 'You must lock yourself have remained.', 'You see how quickly to Miss Stoper.', 'You are more likely to call.', 'You know my methods.', 'You see this other page in red ink?']\n",
      "['You have a heart of gold.', 'You say that all is well with him.', 'You’re mad!', 'You must lock yourself have remained.', 'You see how quickly to Miss Stoper.', 'You are more likely to call.', 'You know my methods.', 'You see this other page in red ink?']\n",
      "['You have a heart of gold.', 'You say that all is well with him.', 'You’re mad!', 'You must lock yourself have remained.', 'You see how quickly to Miss Stoper.', 'You are more likely to call.', 'You know my methods.', 'You see this other page in red ink?', 'You say that.']\n",
      "['You have a heart of gold.', 'You say that all is well with him.', 'You’re mad!', 'You must lock yourself have remained.', 'You see how quickly to Miss Stoper.', 'You are more likely to call.', 'You know my methods.', 'You see this other page in red ink?', 'You say that.']\n",
      "['You have a heart of gold.', 'You say that all is well with him.', 'You’re mad!', 'You must lock yourself have remained.', 'You see how quickly to Miss Stoper.', 'You are more likely to call.', 'You know my methods.', 'You see this other page in red ink?', 'You say that.', 'You will soon develop for you.']\n",
      "['You have a heart of gold.', 'You say that all is well with him.', 'You’re mad!', 'You must lock yourself have remained.', 'You see how quickly to Miss Stoper.', 'You are more likely to call.', 'You know my methods.', 'You see this other page in red ink?', 'You say that.', 'You will soon develop for you.']\n",
      "['You have a heart of gold.', 'You say that all is well with him.', 'You’re mad!', 'You must lock yourself have remained.', 'You see how quickly to Miss Stoper.', 'You are more likely to call.', 'You know my methods.', 'You see this other page in red ink?', 'You say that.', 'You will soon develop for you.']\n",
      "['You have a heart of gold.', 'You say that all is well with him.', 'You’re mad!', 'You must lock yourself have remained.', 'You see how quickly to Miss Stoper.', 'You are more likely to call.', 'You know my methods.', 'You see this other page in red ink?', 'You say that.', 'You will soon develop for you.']\n",
      "['You have a heart of gold.', 'You say that all is well with him.', 'You’re mad!', 'You must lock yourself have remained.', 'You see how quickly to Miss Stoper.', 'You are more likely to call.', 'You know my methods.', 'You see this other page in red ink?', 'You say that.', 'You will soon develop for you.']\n",
      "['You have a heart of gold.', 'You say that all is well with him.', 'You’re mad!', 'You must lock yourself have remained.', 'You see how quickly to Miss Stoper.', 'You are more likely to call.', 'You know my methods.', 'You see this other page in red ink?', 'You say that.', 'You will soon develop for you.', 'You must not interfere, come what may.']\n",
      "['You have a heart of gold.', 'You say that all is well with him.', 'You’re mad!', 'You must lock yourself have remained.', 'You see how quickly to Miss Stoper.', 'You are more likely to call.', 'You know my methods.', 'You see this other page in red ink?', 'You say that.', 'You will soon develop for you.', 'You must not interfere, come what may.']\n",
      "['You have a heart of gold.', 'You say that all is well with him.', 'You’re mad!', 'You must lock yourself have remained.', 'You see how quickly to Miss Stoper.', 'You are more likely to call.', 'You know my methods.', 'You see this other page in red ink?', 'You say that.', 'You will soon develop for you.', 'You must not interfere, come what may.']\n"
     ]
    }
   ],
   "source": [
    "You_short = []\n",
    "model_cls = markovify.Text if level == \"word\" else SentencesByChar\n",
    "gen_a = model_cls(text_cookie, state_size=order)\n",
    "gen_b = model_cls(new_text, state_size=order)\n",
    "gen_combo = markovify.combine([gen_a, gen_b], weights)\n",
    "for i in range(output_n):\n",
    "    out = gen_combo.make_short_sentence(length_limit, test_output=False)\n",
    "    out = out.replace(\"\\n\", \" \")\n",
    "    if(out[0]=='Y') & (out[1] == 'o'):\n",
    "        if len(out) < 40:\n",
    "            You_short.append(out)\n",
    "        print(You_short)"
   ]
  },
  {
   "cell_type": "code",
   "execution_count": 146,
   "id": "f242a8d5",
   "metadata": {},
   "outputs": [
    {
     "name": "stdout",
     "output_type": "stream",
     "text": [
      "You are more likely to call.\n"
     ]
    }
   ],
   "source": [
    "rules ={\n",
    "    \"origin\" : [\"#youshort#\"],    \n",
    "    \n",
    "    \"youshort\" : [\n",
    "       random.choice(You_short)\n",
    "    ]\n",
    "    \n",
    "}\n",
    "\n",
    "\n",
    "grammar = tracery.Grammar(rules)\n",
    "grammar.add_modifiers(base_english)\n",
    "text = grammar.flatten(\"#origin#\")\n",
    "\n",
    "print(grammar.flatten(\"#origin#\"))"
   ]
  },
  {
   "cell_type": "markdown",
   "id": "1d4f26a0",
   "metadata": {},
   "source": [
    "You have been so persistence.\n",
    "Your luck has been several times lately.\n",
    "\n",
    "You are yourself to others.\n",
    "\n",
    "\n",
    "You have heard of any such body.\n",
    "\n",
    "You always do things the right time.\n"
   ]
  },
  {
   "cell_type": "markdown",
   "id": "75abb782",
   "metadata": {},
   "source": [
    "You should be almost as bright as day.\n"
   ]
  },
  {
   "cell_type": "markdown",
   "id": "cba99b8a",
   "metadata": {},
   "source": [
    "You have really done very nicely.\n"
   ]
  },
  {
   "cell_type": "code",
   "execution_count": null,
   "id": "6923fd2a",
   "metadata": {},
   "outputs": [],
   "source": []
  }
 ],
 "metadata": {
  "kernelspec": {
   "display_name": "Python 3 (ipykernel)",
   "language": "python",
   "name": "python3"
  },
  "language_info": {
   "codemirror_mode": {
    "name": "ipython",
    "version": 3
   },
   "file_extension": ".py",
   "mimetype": "text/x-python",
   "name": "python",
   "nbconvert_exporter": "python",
   "pygments_lexer": "ipython3",
   "version": "3.9.7"
  }
 },
 "nbformat": 4,
 "nbformat_minor": 5
}
